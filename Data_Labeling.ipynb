{
 "cells": [
  {
   "cell_type": "code",
   "execution_count": 1,
   "metadata": {
    "collapsed": false
   },
   "outputs": [],
   "source": [
    "import sys\n",
    "import os\n",
    "import glob\n",
    "import csv\n",
    "sys.path.append('/usr/local/lib/python2.7/dist-packages')\n",
    "import cv2\n",
    "\n",
    "from scipy import ndimage as ndi\n",
    "\n",
    "from skimage import color, io, exposure, feature, filters, measure, data\n",
    "from skimage.filters import threshold_otsu, gaussian_filter, gabor_kernel\n",
    "from skimage.segmentation import slic, mark_boundaries\n",
    "from skimage.util import img_as_float, img_as_ubyte\n",
    "\n",
    "import numpy as np\n",
    "from numpy import cos, sin, conjugate, sqrt\n",
    "\n",
    "from math import atan2\n",
    "\n",
    "from matplotlib import pyplot as plt\n",
    "import matplotlib\n",
    "%matplotlib inline\n",
    "matplotlib.rcParams['font.size'] = 9\n",
    "\n",
    "import ttk\n",
    "from Tkinter import *\n",
    "from PIL import Image, ImageTk"
   ]
  },
  {
   "cell_type": "code",
   "execution_count": 2,
   "metadata": {
    "collapsed": true
   },
   "outputs": [],
   "source": [
    "# Returns the filepaths and filenames of all those files in 'directory' ending in '.fmt'\n",
    "# Currently hard-coded\n",
    "def get_path(directory, fmt):\n",
    "    a = glob.glob(directory + '/*.' + fmt)\n",
    "    b = [x.split('/')[-1].split('.')[0] for x in a]\n",
    "    return zip(a,b)"
   ]
  },
  {
   "cell_type": "code",
   "execution_count": 3,
   "metadata": {
    "collapsed": false
   },
   "outputs": [],
   "source": [
    "def get_init_image(fname, all_paths, previous = False):\n",
    "    all_paths = [all_paths[i][0] for i in range(len(all_paths))]\n",
    "    if fname == '':\n",
    "        ind=0\n",
    "    elif not previous:\n",
    "        ind = all_paths.index(fname)+1\n",
    "    elif previous:\n",
    "        ind = all_paths.index(fname)-1\n",
    "    img = io.imread(all_paths[ind])\n",
    "    current = all_paths[ind]\n",
    "    gray = color.rgb2gray(img)\n",
    "    \n",
    "    # The compactness value maybe reduced in order to improve the segmentation\n",
    "    segments_slic = slic(img, n_segments=5, compactness=5, sigma=1, convert2lab = True)\n",
    "    segments_slic = segments_slic + 1  # So that no labelled region is 0 and ignored by regionprops\n",
    "    regions = measure.regionprops(segments_slic)\n",
    "    return img, gray, current, regions, segments_slic, mark_boundaries(img, segments_slic,[0,0,0])\n"
   ]
  },
  {
   "cell_type": "code",
   "execution_count": 4,
   "metadata": {
    "collapsed": true
   },
   "outputs": [],
   "source": [
    "def getImageTk(img):\n",
    "    img = img_as_ubyte(img)\n",
    "    i = Image.fromarray(img)\n",
    "    return ImageTk.PhotoImage(i)"
   ]
  },
  {
   "cell_type": "code",
   "execution_count": 5,
   "metadata": {
    "collapsed": false
   },
   "outputs": [
    {
     "name": "stdout",
     "output_type": "stream",
     "text": [
      "Welcome\n"
     ]
    }
   ],
   "source": [
    "# Main begins\n",
    "\n",
    "print \"Welcome\"\n",
    "\n",
    "# Get paths to all images\n",
    "paths = get_path(os.getcwd(),'tiff')\n",
    "\n",
    "index = 0 # index denotes the row number in the csv file which corresponds to the start of the first SP region\n",
    "filepath = paths[0][0] # filepath is the path to the corresponding image whose first SP starts from 'index' row'\n",
    "\n",
    "if not os.path.isfile(\"labeled_data.csv\"):\n",
    "    print \"Data not found. Create a new CSV file named labeled_data.csv and index_filename.csv.\""
   ]
  },
  {
   "cell_type": "code",
   "execution_count": 6,
   "metadata": {
    "collapsed": false
   },
   "outputs": [
    {
     "name": "stdout",
     "output_type": "stream",
     "text": [
      "\n",
      "12 /home/ankush/Sclera/src_py/3.tiff\n"
     ]
    }
   ],
   "source": [
    "last_index = 0            # The last index indicates start point available. 0 if no previous data has been written\n",
    "last_fname = '' \n",
    "\n",
    "# Read important stuff and close\n",
    "if os.path.getsize('labeled_data.csv') > 0: # If it is not empty\n",
    "    with open(\"labeled_data.csv\",'rb') as labeled_data, open(\"index_filename.csv\",'rb') as index_fname:\n",
    "        ifreader = csv.reader(index_fname, delimiter = \",\")\n",
    "        for row in ifreader:\n",
    "            old = row\n",
    "        last_index = int(old[0])\n",
    "        last_fname = old[1]\n",
    "        print \n",
    "        print last_index, last_fname"
   ]
  },
  {
   "cell_type": "code",
   "execution_count": 7,
   "metadata": {
    "collapsed": false
   },
   "outputs": [],
   "source": [
    "current_img, current_gray, current_img_path, regions, segments, boundary_img = get_init_image(last_fname,paths)\n",
    "marked_img = boundary_img.copy() # Shown in window 2 of GUI\n",
    "\n",
    "img_data = np.empty(len(regions),dtype='int8') # Stores data about an image\n",
    "img_data.fill(-1)"
   ]
  },
  {
   "cell_type": "code",
   "execution_count": 8,
   "metadata": {
    "collapsed": true
   },
   "outputs": [],
   "source": [
    "current_highlight = 1\n",
    "saved = False\n",
    "# This function highlights a particular Superpxel region of the image\n",
    "def color_region(region_image, segments, highlighted_region_num):\n",
    "    if highlighted_region_num < segments.min() or highlighted_region_num > segments.max():\n",
    "        print \"No region corresponding to this region number exists\"\n",
    "        return region_image\n",
    "    new_img = boundary_img.copy()\n",
    "    # Highlight the region with a color\n",
    "    flags = segments==highlighted_region_num\n",
    "    new_img[flags] = (boundary_img[flags] + [1.0,1.0,0.0])/2.0\n",
    "    return new_img\n",
    "\n",
    "# This function marks(labels) a particular Superpxel region of the image\n",
    "def mark_region(region_img, segments, highlighted_region_num, positive):\n",
    "    if highlighted_region_num < segments.min() or highlighted_region_num > segments.max():\n",
    "        print \"No region corresponding to this region number exists\"\n",
    "        return region_image\n",
    "    global marked_img\n",
    "    # Mark the region with white if positive, black if not positive\n",
    "    flags = segments==highlighted_region_num\n",
    "    if positive:\n",
    "        marked_img[flags] = [1,1,1]\n",
    "    else:\n",
    "        marked_img[flags] = [0,0,0]\n",
    "    return marked_img"
   ]
  },
  {
   "cell_type": "code",
   "execution_count": 9,
   "metadata": {
    "collapsed": false
   },
   "outputs": [],
   "source": [
    "# Callbacks defined \n",
    "# ------------ Scrolling Callbacks ----------\n",
    "def callback_Next_SP():\n",
    "    global current_highlight\n",
    "    if current_highlight < segments.max():\n",
    "        current_highlight += 1\n",
    "        next_img = getImageTk(color_region(boundary_img,segments,current_highlight))\n",
    "        label_o.configure(image = next_img)\n",
    "        label_o.image = next_img\n",
    "\n",
    "def callback_Previous_SP():\n",
    "    global current_highlight\n",
    "    if current_highlight > segments.min():\n",
    "        current_highlight -= 1\n",
    "        next_img = getImageTk(color_region(boundary_img,segments,current_highlight))\n",
    "        label_o.configure(image = next_img)\n",
    "        label_o.image = next_img\n",
    "def callback_Prev_Img():\n",
    "    global current_img, current_gray, current_img_path, regions, segments, boundary_img, current_highlight, marked_img,saved\n",
    "    if not current_img_path == paths[0][0]:\n",
    "        current_img, current_gray, current_img_path, regions, segments, boundary_img = get_init_image(current_img_path,paths, True)\n",
    "        orig_photo = getImageTk(color_region(boundary_img,segments,1))\n",
    "        label_o.configure(image = orig_photo)\n",
    "        label_o.image = orig_photo\n",
    "        current_highlight = 1\n",
    "        # Load the markings of the image and display in window 2\n",
    "        marked_img = boundary_img.copy() # Change this\n",
    "        regions_marked_img = getImageTk(marked_img)\n",
    "        label_g.configure(image = regions_marked_img)\n",
    "        label_g.image = regions_marked_img      \n",
    "        saved = False\n",
    "        \n",
    "def callback_Next_Img():\n",
    "    global current_img, current_gray, current_img_path, regions, segments, boundary_img, current_highlight,marked_img,saved\n",
    "    if not current_img_path == paths[len(paths)-1][0]:\n",
    "        current_img, current_gray, current_img_path, regions, segments, boundary_img = get_init_image(current_img_path,paths)\n",
    "        orig_photo = getImageTk(color_region(boundary_img,segments,1))\n",
    "        label_o.configure(image = orig_photo)\n",
    "        label_o.image = orig_photo\n",
    "        current_highlight = 1\n",
    "        # Load the markings of the image and display in window 2\n",
    "        marked_img = boundary_img.copy() # Change this\n",
    "        regions_marked_img = getImageTk(marked_img)\n",
    "        label_g.configure(image = regions_marked_img)\n",
    "        label_g.image = regions_marked_img \n",
    "        saved = False\n",
    "    \n",
    "\n",
    "# ------------ Labelling Callbacks ----------\n",
    "def callback_Positive():\n",
    "    # Some Magic\n",
    "    global img_data\n",
    "    img_data[current_highlight-1] = 1\n",
    "    next_img = getImageTk(mark_region(marked_img,segments,current_highlight,True))\n",
    "    label_g.configure(image = next_img)\n",
    "    label_g.image = next_img\n",
    "    callback_Next_SP()\n",
    "def callback_Negative():\n",
    "    # Some Magic\n",
    "    global img_data\n",
    "    img_data[current_highlight-1] = -1\n",
    "    next_img = getImageTk(mark_region(marked_img,segments,current_highlight,False))\n",
    "    label_g.configure(image = next_img)\n",
    "    label_g.image = next_img\n",
    "    callback_Next_SP()\n",
    "def callback_Pos_Border():\n",
    "    # Some Magic\n",
    "    global img_data\n",
    "    img_data[current_highlight-1] = 2\n",
    "    next_img = getImageTk(mark_region(marked_img,segments,current_highlight,True))\n",
    "    label_g.configure(image = next_img)\n",
    "    label_g.image = next_img\n",
    "    callback_Next_SP()\n",
    "def callback_Neg_Border():\n",
    "    # Some Magic\n",
    "    global img_data\n",
    "    img_data[current_highlight-1] = -2\n",
    "    next_img = getImageTk(mark_region(marked_img,segments,current_highlight,False))\n",
    "    label_g.configure(image = next_img)\n",
    "    label_g.image = next_img\n",
    "    callback_Next_SP()\n",
    "def callback_Save():\n",
    "    global ldwriter, ifwriter, img_data, saved, last_fname, last_index\n",
    "    if not saved:\n",
    "        for i in img_data:\n",
    "            ldwriter.writerow([i])\n",
    "        \n",
    "        last_index = last_index+len(regions)\n",
    "        last_fname = current_img_path\n",
    "        ifwriter.writerow([last_index]+[last_fname])\n",
    "        \n",
    "        saved = True\n",
    "    callback_Next_Img()"
   ]
  },
  {
   "cell_type": "code",
   "execution_count": 10,
   "metadata": {
    "collapsed": false
   },
   "outputs": [
    {
     "name": "stderr",
     "output_type": "stream",
     "text": [
      "/home/ankush/anaconda2/lib/python2.7/site-packages/skimage/util/dtype.py:111: UserWarning: Possible precision loss when converting from float64 to uint8\n",
      "  \"%s to %s\" % (dtypeobj_in, dtypeobj))\n"
     ]
    }
   ],
   "source": [
    "# Write data onto csv files\n",
    "\n",
    "with open(\"labeled_data.csv\",'a') as labeled_data, open(\"index_filename.csv\",'a') as index_fname:\n",
    "    ldwriter = csv.writer(labeled_data, delimiter = \",\")\n",
    "    ifwriter = csv.writer(index_fname, delimiter = \",\")\n",
    "    \n",
    "    if not os.path.getsize('index_filename.csv') > 0: # For first time creation\n",
    "        ifwriter.writerow([0,''])\n",
    "             \n",
    "        \n",
    "    root = Toplevel() # Change this to Tk() instead of Toplevel() to prevent 2 windows from opening\n",
    "    root.title(\"Super-Pixel Labeling\")\n",
    "\n",
    "    # frame1 is for displaying the 2 images\n",
    "    frame1 = ttk.Frame(root)\n",
    "    frame1.grid(column=1, row=1)\n",
    "\n",
    "    # Displaying the original picture with the regions marked\n",
    "    ttk.Label(frame1, text=\"Original\").grid(column=1, row=1)\n",
    "    gui_orig_photo = getImageTk(color_region(boundary_img,segments,1))\n",
    "    label_o = ttk.Label(frame1, image=gui_orig_photo)\n",
    "    label_o.image = gui_orig_photo\n",
    "    label_o.grid(column = 1, row = 2)\n",
    "\n",
    "    # Shows the final bitmap with Sclera region marked in white and rest in black\n",
    "    ttk.Label(frame1, text=\"Marked-Region\").grid(column=2, row=1)\n",
    "    regions_marked_img = getImageTk(marked_img)\n",
    "    label_g = ttk.Label(frame1, image=regions_marked_img)\n",
    "    label_g.image = regions_marked_img\n",
    "    label_g.grid(column = 2, row = 2)\n",
    "\n",
    "    # frame2 is for the labelling buttons and for scrolling between images\n",
    "    frame2 = ttk.Frame(root)\n",
    "    frame2.grid(column=1, row=2)\n",
    "\n",
    "    ttk.Button(frame2, text=\"Positive\", command = callback_Positive).grid(column=1, row=1)\n",
    "    ttk.Button(frame2, text=\"Pos. Border\", command = callback_Pos_Border).grid(column=3, row=1)\n",
    "    ttk.Button(frame2, text=\"Prev SuperPixel\", command = callback_Previous_SP).grid(column=2, row=2)\n",
    "    ttk.Button(frame2, text=\"Save Image Data\", command = callback_Save).grid(column=4, row=2)\n",
    "\n",
    "    ttk.Button(frame2, text=\"Negative\", command = callback_Negative).grid(column=5, row=1)\n",
    "    ttk.Button(frame2, text=\"Neg. Border\", command = callback_Neg_Border).grid(column=7, row=1)\n",
    "    ttk.Button(frame2, text=\"Next SuperPixel\", command = callback_Next_SP).grid(column=6, row=2)\n",
    "\n",
    "\n",
    "    button_prev_img = ttk.Button(frame2, text=\"Prev Img\", command = callback_Prev_Img)\n",
    "    button_prev_img.grid(column=1, row=3)\n",
    "    ttk.Button(frame2, text=\"Done\", command = callback_Positive).grid(column=4, row=3)\n",
    "    ttk.Button(frame2, text=\"Next Img\", command = callback_Next_Img).grid(column=7, row=3)\n",
    "\n",
    "\n",
    "    for child in frame1.winfo_children(): child.grid_configure(padx=5, pady=5)\n",
    "\n",
    "    root.mainloop()"
   ]
  },
  {
   "cell_type": "code",
   "execution_count": null,
   "metadata": {
    "collapsed": false
   },
   "outputs": [],
   "source": [
    "a = get_path(os.getcwd(),'tiff')\n",
    "a"
   ]
  },
  {
   "cell_type": "code",
   "execution_count": null,
   "metadata": {
    "collapsed": false
   },
   "outputs": [],
   "source": [
    "[paths[i][0] for i in range(len(paths))]"
   ]
  },
  {
   "cell_type": "code",
   "execution_count": null,
   "metadata": {
    "collapsed": false
   },
   "outputs": [],
   "source": [
    "os.path.isfile(\"6.tiff\")"
   ]
  },
  {
   "cell_type": "code",
   "execution_count": null,
   "metadata": {
    "collapsed": false
   },
   "outputs": [],
   "source": [
    "with open('eggs.csv', 'wb') as csvfile:\n",
    "    spamwriter = csv.writer(csvfile, delimiter=',')\n",
    "    spamwriter.writerow(['Spam'] * 5 + ['Baked Beans'])\n",
    "    spamwriter.writerow(['Spam', 'Lovely Spam', 'Wonderful Spam'])\n",
    "    spamwriter.writerow(['Spam', 'ok Spam', 'ugly Spam'])"
   ]
  },
  {
   "cell_type": "code",
   "execution_count": null,
   "metadata": {
    "collapsed": false
   },
   "outputs": [],
   "source": [
    "os.path.getsize('index_filename.csv')"
   ]
  },
  {
   "cell_type": "code",
   "execution_count": null,
   "metadata": {
    "collapsed": false
   },
   "outputs": [],
   "source": [
    "with open('eggs.csv', 'rb') as csvfile:\n",
    "    spamreader = csv.reader(csvfile, delimiter=' ', quotechar='|')\n",
    "    for row in spamreader:\n",
    "        print ', '.join(row)\n",
    "        old = row"
   ]
  },
  {
   "cell_type": "code",
   "execution_count": null,
   "metadata": {
    "collapsed": false
   },
   "outputs": [],
   "source": [
    "a = np.empty(3,dtype='int8')\n",
    "a.fill(-1)\n",
    "print a"
   ]
  },
  {
   "cell_type": "code",
   "execution_count": null,
   "metadata": {
    "collapsed": false
   },
   "outputs": [],
   "source": [
    "np.savetxt(\"foo.csv\", a, delimiter=\",\")\n"
   ]
  },
  {
   "cell_type": "code",
   "execution_count": null,
   "metadata": {
    "collapsed": false
   },
   "outputs": [],
   "source": [
    "b = np.genfromtxt(\"foo.csv\", delimiter=',')"
   ]
  },
  {
   "cell_type": "code",
   "execution_count": null,
   "metadata": {
    "collapsed": false
   },
   "outputs": [],
   "source": [
    "b"
   ]
  },
  {
   "cell_type": "code",
   "execution_count": null,
   "metadata": {
    "collapsed": false
   },
   "outputs": [],
   "source": [
    "img_data"
   ]
  },
  {
   "cell_type": "code",
   "execution_count": null,
   "metadata": {
    "collapsed": false
   },
   "outputs": [],
   "source": [
    "with open('eggs.csv', 'a') as csvfile:\n",
    "    spamwriter = csv.writer(csvfile, delimiter=',')\n",
    "    for i in img_data:\n",
    "        spamwriter.writerow([i])"
   ]
  },
  {
   "cell_type": "code",
   "execution_count": null,
   "metadata": {
    "collapsed": false
   },
   "outputs": [],
   "source": [
    "len(regions)"
   ]
  },
  {
   "cell_type": "code",
   "execution_count": null,
   "metadata": {
    "collapsed": false
   },
   "outputs": [],
   "source": [
    "paths"
   ]
  },
  {
   "cell_type": "code",
   "execution_count": null,
   "metadata": {
    "collapsed": false
   },
   "outputs": [],
   "source": [
    "last_fname"
   ]
  },
  {
   "cell_type": "code",
   "execution_count": null,
   "metadata": {
    "collapsed": false
   },
   "outputs": [],
   "source": []
  },
  {
   "cell_type": "code",
   "execution_count": null,
   "metadata": {
    "collapsed": true
   },
   "outputs": [],
   "source": []
  }
 ],
 "metadata": {
  "kernelspec": {
   "display_name": "Python 2",
   "language": "python",
   "name": "python2"
  },
  "language_info": {
   "codemirror_mode": {
    "name": "ipython",
    "version": 2
   },
   "file_extension": ".py",
   "mimetype": "text/x-python",
   "name": "python",
   "nbconvert_exporter": "python",
   "pygments_lexer": "ipython2",
   "version": "2.7.11"
  }
 },
 "nbformat": 4,
 "nbformat_minor": 0
}
