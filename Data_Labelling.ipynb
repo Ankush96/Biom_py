{
 "cells": [
  {
   "cell_type": "code",
   "execution_count": 197,
   "metadata": {
    "collapsed": false
   },
   "outputs": [],
   "source": [
    "import sys\n",
    "import os\n",
    "import glob\n",
    "import csv\n",
    "sys.path.append('/usr/local/lib/python2.7/dist-packages')\n",
    "import cv2\n",
    "\n",
    "from scipy import ndimage as ndi\n",
    "\n",
    "from skimage import color, io, exposure, feature, filters, measure, data\n",
    "from skimage.filters import threshold_otsu, gaussian_filter, gabor_kernel\n",
    "from skimage.segmentation import slic, mark_boundaries\n",
    "from skimage.util import img_as_float, img_as_ubyte\n",
    "\n",
    "import numpy as np\n",
    "from numpy import cos, sin, conjugate, sqrt\n",
    "\n",
    "from math import atan2\n",
    "\n",
    "from matplotlib import pyplot as plt\n",
    "import matplotlib\n",
    "%matplotlib inline\n",
    "matplotlib.rcParams['font.size'] = 9\n",
    "\n",
    "import ttk\n",
    "from Tkinter import *\n",
    "from PIL import Image, ImageTk"
   ]
  },
  {
   "cell_type": "code",
   "execution_count": 198,
   "metadata": {
    "collapsed": true
   },
   "outputs": [],
   "source": [
    "# Returns the filepaths and filenames of all those files in 'directory' ending in '.fmt'\n",
    "# Currently hard-coded\n",
    "def get_path(directory, fmt):\n",
    "    a = glob.glob(directory + '/*.' + fmt)\n",
    "    b = [x.split('/')[-1].split('.')[0] for x in a]\n",
    "    return zip(a,b)"
   ]
  },
  {
   "cell_type": "code",
   "execution_count": 199,
   "metadata": {
    "collapsed": false
   },
   "outputs": [],
   "source": [
    "def get_init_image(fname, all_paths):\n",
    "    if fname == '':\n",
    "        ind=0\n",
    "    else:\n",
    "        ind = all_paths.index(fname)+1\n",
    "    img = io.imread(all_paths[ind][0])\n",
    "    current = all_paths[ind][0]\n",
    "    gray = color.rgb2gray(img)\n",
    "    \n",
    "    # The compactness value maybe reduced in order to improve the segmentation\n",
    "    segments_slic = slic(img, n_segments=200, compactness=5, sigma=1, convert2lab = True)\n",
    "    segments_slic = segments_slic + 1  # So that no labelled region is 0 and ignored by regionprops\n",
    "    regions = measure.regionprops(segments_slic)\n",
    "    return img, gray, current, regions, segments_slic, mark_boundaries(img, segments_slic,[0,0,0])\n"
   ]
  },
  {
   "cell_type": "code",
   "execution_count": 200,
   "metadata": {
    "collapsed": true
   },
   "outputs": [],
   "source": [
    "def getImageTk(img):\n",
    "    img = img_as_ubyte(img)\n",
    "    i = Image.fromarray(img)\n",
    "    return ImageTk.PhotoImage(i)"
   ]
  },
  {
   "cell_type": "code",
   "execution_count": 201,
   "metadata": {
    "collapsed": false
   },
   "outputs": [
    {
     "name": "stdout",
     "output_type": "stream",
     "text": [
      "Welcome\n"
     ]
    }
   ],
   "source": [
    "# Main begins\n",
    "\n",
    "print \"Welcome\"\n",
    "\n",
    "# Get paths to all images\n",
    "paths = get_path(os.getcwd(),'tiff')\n",
    "\n",
    "index = 0 # index denotes the row number in the csv file which corresponds to the start of the first SP region\n",
    "filepath = paths[0][0] # filepath is the path to the corresponding image whose first SP starts from 'index' row'\n",
    "\n",
    "if not os.path.isfile(\"labeled_data.csv\"):\n",
    "    print \"Data not found. Create a new CSV file named labeled_data.csv and index_filename.csv.\""
   ]
  },
  {
   "cell_type": "code",
   "execution_count": 202,
   "metadata": {
    "collapsed": true
   },
   "outputs": [],
   "source": [
    "last_index = 0            # The last index indicates start point available. 0 if no previous data has been written\n",
    "last_fname = '' \n",
    "\n",
    "# Read important stuff and close\n",
    "if os.path.getsize('labeled_data.csv') > 0: # If it is not empty\n",
    "    with open(\"labeled_data.csv\",'rb') as labeled_data, open(\"index_filename.csv\",'rb') as index_fname:\n",
    "        ifreader = csv.reader(index_fname, delimiter = \",\")\n",
    "        for row in ifreader:\n",
    "            print ', '.join(row)\n",
    "            old = row\n",
    "        last_index = old[0]\n",
    "        last_fname = old[1]\n",
    "        print last_index, last_fname"
   ]
  },
  {
   "cell_type": "code",
   "execution_count": 203,
   "metadata": {
    "collapsed": false
   },
   "outputs": [],
   "source": [
    "current_img, current_gray, current_img_path, regions, segments, boundary_img = get_init_image(last_fname,paths)\n",
    "marked_img = boundary_img.copy() # Shown in window 2 of GUI"
   ]
  },
  {
   "cell_type": "code",
   "execution_count": 204,
   "metadata": {
    "collapsed": true
   },
   "outputs": [],
   "source": [
    "current_highlight = 1\n",
    "# This function highlights a particular Superpxel region of the image\n",
    "def color_region(region_image, segments, highlighted_region_num):\n",
    "    if highlighted_region_num < segments.min() or highlighted_region_num > segments.max():\n",
    "        print \"No region corresponding to this region number exists\"\n",
    "        return region_image\n",
    "    new_img = boundary_img.copy()\n",
    "    # Highlight the region with a color\n",
    "    flags = segments==highlighted_region_num\n",
    "    new_img[flags] = (boundary_img[flags] + [1.0,1.0,0.0])/2.0\n",
    "    return new_img\n",
    "\n",
    "# This function marks(labels) a particular Superpxel region of the image\n",
    "def mark_region(region_img, segments, highlighted_region_num, positive):\n",
    "    if highlighted_region_num < segments.min() or highlighted_region_num > segments.max():\n",
    "        print \"No region corresponding to this region number exists\"\n",
    "        return region_image\n",
    "    global marked_img\n",
    "    # Mark the region with white if positive, black if not positive\n",
    "    flags = segments==highlighted_region_num\n",
    "    if positive:\n",
    "        marked_img[flags] = [1,1,1]\n",
    "    else:\n",
    "        marked_img[flags] = [0,0,0]\n",
    "    return marked_img"
   ]
  },
  {
   "cell_type": "code",
   "execution_count": 205,
   "metadata": {
    "collapsed": false
   },
   "outputs": [],
   "source": [
    "# Callbacks defined \n",
    "# ------------ Scrolling Callbacks ----------\n",
    "def callback_Next_SP():\n",
    "    global current_highlight\n",
    "    if current_highlight < segments.max():\n",
    "        current_highlight += 1\n",
    "        next_img = getImageTk(color_region(boundary_img,segments,current_highlight))\n",
    "        label_o.configure(image = next_img)\n",
    "        label_o.image = next_img\n",
    "\n",
    "def callback_Previous_SP():\n",
    "    global current_highlight\n",
    "    if current_highlight > segments.min():\n",
    "        current_highlight -= 1\n",
    "        next_img = getImageTk(color_region(boundary_img,segments,current_highlight))\n",
    "        label_o.configure(image = next_img)\n",
    "        label_o.image = next_img\n",
    "def callback_Prev_Img():\n",
    "    if current_img_path == paths[0][0]:\n",
    "        button_prev_img.configure()\n",
    "def callback_Next_Img():\n",
    "    button_prev_img.configure()\n",
    "\n",
    "# ------------ Labelling Callbacks ----------\n",
    "def callback_Positive():\n",
    "    # Some Magic\n",
    "    next_img = getImageTk(mark_region(marked_img,segments,current_highlight,True))\n",
    "    label_g.configure(image = next_img)\n",
    "    label_g.image = next_img\n",
    "    callback_Next_SP()\n",
    "def callback_Negative():\n",
    "    # Some Magic\n",
    "    next_img = getImageTk(mark_region(marked_img,segments,current_highlight,False))\n",
    "    label_g.configure(image = next_img)\n",
    "    label_g.image = next_img\n",
    "    callback_Next_SP()\n",
    "def callback_Pos_Border():\n",
    "    # Some Magic\n",
    "    next_img = getImageTk(mark_region(marked_img,segments,current_highlight,True))\n",
    "    label_g.configure(image = next_img)\n",
    "    label_g.image = next_img\n",
    "    callback_Next_SP()\n",
    "def callback_Neg_Border():\n",
    "    # Some Magic\n",
    "    next_img = getImageTk(mark_region(marked_img,segments,current_highlight,False))\n",
    "    label_g.configure(image = next_img)\n",
    "    label_g.image = next_img\n",
    "    callback_Next_SP()"
   ]
  },
  {
   "cell_type": "code",
   "execution_count": 206,
   "metadata": {
    "collapsed": false
   },
   "outputs": [],
   "source": [
    "# Write data onto csv files\n",
    "\n",
    "with open(\"labeled_data.csv\",'a') as labeled_data, open(\"index_filename.csv\",'a') as index_fname:\n",
    "    ldwriter = csv.writer(labeled_data, delimiter = \",\")\n",
    "    ifwriter = csv.writer(index_fname, delimiter = \",\")\n",
    "    \n",
    "    if not os.path.getsize('index_filename.csv') > 0: # For first time creation\n",
    "        ifwriter.writerow([0,''])\n",
    "             \n",
    "        \n",
    "    root = Toplevel() # Change this to Tk() instead of Toplevel() to prevent 2 windows from opening\n",
    "    root.title(\"Super-Pixel Labelling\")\n",
    "\n",
    "    # frame1 is for displaying the 2 images\n",
    "    frame1 = ttk.Frame(root)\n",
    "    frame1.grid(column=1, row=1)\n",
    "\n",
    "    # Displaying the original picture with the regions marked\n",
    "    ttk.Label(frame1, text=\"Original\").grid(column=1, row=1)\n",
    "    gui_orig_photo = getImageTk(color_region(boundary_img,segments,1))\n",
    "    label_o = ttk.Label(frame1, image=gui_orig_photo)\n",
    "    label_o.image = gui_orig_photo\n",
    "    label_o.grid(column = 1, row = 2)\n",
    "\n",
    "    # Shows the final bitmap with Sclera region marked in white and rest in black\n",
    "    ttk.Label(frame1, text=\"Region\").grid(column=2, row=1)\n",
    "    regions_marked_img = getImageTk(marked_img)\n",
    "    label_g = ttk.Label(frame1, image=regions_marked_img)\n",
    "    label_g.image = regions_marked_img\n",
    "    label_g.grid(column = 2, row = 2)\n",
    "\n",
    "    # frame2 is for the labelling buttons and for scrolling between images\n",
    "    frame2 = ttk.Frame(root)\n",
    "    frame2.grid(column=1, row=2)\n",
    "\n",
    "    ttk.Button(frame2, text=\"Positive\", command = callback_Positive).grid(column=1, row=1)\n",
    "    ttk.Button(frame2, text=\"Pos. Border\", command = callback_Pos_Border).grid(column=3, row=1)\n",
    "    ttk.Button(frame2, text=\"Prev SuperPixel\", command = callback_Previous_SP).grid(column=2, row=2)\n",
    "    ttk.Button(frame2, text=\"Save Image Data\", command = callback_Positive).grid(column=4, row=2)\n",
    "\n",
    "    ttk.Button(frame2, text=\"Negative\", command = callback_Negative).grid(column=5, row=1)\n",
    "    ttk.Button(frame2, text=\"Neg. Border\", command = callback_Neg_Border).grid(column=7, row=1)\n",
    "    ttk.Button(frame2, text=\"Next SuperPixel\", command = callback_Next_SP).grid(column=6, row=2)\n",
    "\n",
    "\n",
    "    button_prev_img = ttk.Button(frame2, text=\"Prev Img\", command = callback_Prev_Img)\n",
    "    button_prev_img.grid(column=1, row=3)\n",
    "    ttk.Button(frame2, text=\"Done\", command = callback_Positive).grid(column=4, row=3)\n",
    "    ttk.Button(frame2, text=\"Next Img\", command = callback_Next_Img).grid(column=7, row=3)\n",
    "\n",
    "\n",
    "    for child in frame1.winfo_children(): child.grid_configure(padx=5, pady=5)\n",
    "\n",
    "    root.mainloop()"
   ]
  },
  {
   "cell_type": "code",
   "execution_count": 13,
   "metadata": {
    "collapsed": false
   },
   "outputs": [
    {
     "data": {
      "text/plain": [
       "[('/home/ankush/Sclera/src_py/1.tiff', '1'),\n",
       " ('/home/ankush/Sclera/src_py/3.tiff', '3'),\n",
       " ('/home/ankush/Sclera/src_py/2.tiff', '2'),\n",
       " ('/home/ankush/Sclera/src_py/4.tiff', '4'),\n",
       " ('/home/ankush/Sclera/src_py/5.tiff', '5')]"
      ]
     },
     "execution_count": 13,
     "metadata": {},
     "output_type": "execute_result"
    }
   ],
   "source": [
    "a = get_path(os.getcwd(),'tiff')\n",
    "a"
   ]
  },
  {
   "cell_type": "code",
   "execution_count": 14,
   "metadata": {
    "collapsed": false
   },
   "outputs": [
    {
     "data": {
      "text/plain": [
       "[('/home/ankush/Sclera/src_py/1.tiff', '1'),\n",
       " ('/home/ankush/Sclera/src_py/3.tiff', '3'),\n",
       " ('/home/ankush/Sclera/src_py/2.tiff', '2'),\n",
       " ('/home/ankush/Sclera/src_py/4.tiff', '4'),\n",
       " ('/home/ankush/Sclera/src_py/5.tiff', '5')]"
      ]
     },
     "execution_count": 14,
     "metadata": {},
     "output_type": "execute_result"
    }
   ],
   "source": [
    "paths"
   ]
  },
  {
   "cell_type": "code",
   "execution_count": 15,
   "metadata": {
    "collapsed": false
   },
   "outputs": [
    {
     "data": {
      "text/plain": [
       "False"
      ]
     },
     "execution_count": 15,
     "metadata": {},
     "output_type": "execute_result"
    }
   ],
   "source": [
    "os.path.isfile(\"6.tiff\")"
   ]
  },
  {
   "cell_type": "code",
   "execution_count": 16,
   "metadata": {
    "collapsed": false
   },
   "outputs": [],
   "source": [
    "with open('eggs.csv', 'wb') as csvfile:\n",
    "    spamwriter = csv.writer(csvfile, delimiter=',')\n",
    "    spamwriter.writerow(['Spam'] * 5 + ['Baked Beans'])\n",
    "    spamwriter.writerow(['Spam', 'Lovely Spam', 'Wonderful Spam'])\n",
    "    spamwriter.writerow(['Spam', 'ok Spam', 'ugly Spam'])"
   ]
  },
  {
   "cell_type": "code",
   "execution_count": 22,
   "metadata": {
    "collapsed": false
   },
   "outputs": [
    {
     "data": {
      "text/plain": [
       "4"
      ]
     },
     "execution_count": 22,
     "metadata": {},
     "output_type": "execute_result"
    }
   ],
   "source": [
    "os.path.getsize('index_filename.csv')"
   ]
  },
  {
   "cell_type": "code",
   "execution_count": 18,
   "metadata": {
    "collapsed": false
   },
   "outputs": [
    {
     "name": "stdout",
     "output_type": "stream",
     "text": [
      "Spam,Spam,Spam,Spam,Spam,Baked, Beans\n",
      "Spam,Lovely, Spam,Wonderful, Spam\n",
      "Spam,ok, Spam,ugly, Spam\n"
     ]
    }
   ],
   "source": [
    "with open('eggs.csv', 'rb') as csvfile:\n",
    "    spamreader = csv.reader(csvfile, delimiter=' ', quotechar='|')\n",
    "    for row in spamreader:\n",
    "        print ', '.join(row)\n",
    "        old = row"
   ]
  },
  {
   "cell_type": "code",
   "execution_count": null,
   "metadata": {
    "collapsed": true
   },
   "outputs": [],
   "source": []
  }
 ],
 "metadata": {
  "kernelspec": {
   "display_name": "Python 2",
   "language": "python",
   "name": "python2"
  },
  "language_info": {
   "codemirror_mode": {
    "name": "ipython",
    "version": 2
   },
   "file_extension": ".py",
   "mimetype": "text/x-python",
   "name": "python",
   "nbconvert_exporter": "python",
   "pygments_lexer": "ipython2",
   "version": "2.7.11"
  }
 },
 "nbformat": 4,
 "nbformat_minor": 0
}
