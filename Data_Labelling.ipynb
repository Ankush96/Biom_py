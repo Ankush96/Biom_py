{
 "cells": [
  {
   "cell_type": "code",
   "execution_count": 23,
   "metadata": {
    "collapsed": false
   },
   "outputs": [],
   "source": [
    "import sys\n",
    "sys.path.append('/usr/local/lib/python2.7/dist-packages')\n",
    "import cv2\n",
    "\n",
    "from scipy import ndimage as ndi\n",
    "\n",
    "from skimage import color, io, exposure, feature, filters, measure, data\n",
    "from skimage.filters import threshold_otsu, gaussian_filter, gabor_kernel\n",
    "from skimage.segmentation import slic, mark_boundaries\n",
    "from skimage.util import img_as_float\n",
    "\n",
    "import numpy as np\n",
    "from numpy import cos, sin, conjugate, sqrt\n",
    "\n",
    "from math import atan2\n",
    "\n",
    "from matplotlib import pyplot as plt\n",
    "import matplotlib\n",
    "%matplotlib inline\n",
    "matplotlib.rcParams['font.size'] = 9\n",
    "\n",
    "import ttk\n",
    "from Tkinter import *"
   ]
  },
  {
   "cell_type": "code",
   "execution_count": 34,
   "metadata": {
    "collapsed": false
   },
   "outputs": [],
   "source": [
    "def calculate(*args):\n",
    "    try:\n",
    "        value = float(feet.get())\n",
    "        meters.set((0.3048 * value * 10000.0 + 0.5)/10000.0)\n",
    "    except ValueError:\n",
    "        pass\n",
    "    \n",
    "root = Tk()\n",
    "root.title(\"Feet to Meters\")\n",
    "\n",
    "mainframe = ttk.Frame(root)\n",
    "mainframe.grid(column=0, row=0, sticky=(N, W, E, S))\n",
    "mainframe.columnconfigure(0, weight=1)\n",
    "mainframe.rowconfigure(0, weight=1)\n",
    "\n",
    "feet = StringVar()\n",
    "meters = StringVar()\n",
    "\n",
    "feet_entry = ttk.Entry(mainframe, width=7, textvariable=feet)\n",
    "feet_entry.grid(column=2, row=1, sticky=(W, E))\n",
    "\n",
    "ttk.Label(mainframe, textvariable=meters).grid(column=2, row=2, sticky=(W, E))\n",
    "ttk.Button(mainframe, text=\"Calculate\", command=calculate).grid(column=3, row=3, sticky=W)\n",
    "\n",
    "ttk.Label(mainframe, text=\"feet\").grid(column=3, row=1, sticky=W)\n",
    "ttk.Label(mainframe, text=\"is equivalent to\").grid(column=1, row=2, sticky=E)\n",
    "ttk.Label(mainframe, text=\"meters\").grid(column=3, row=2, sticky=W)\n",
    "\n",
    "for child in mainframe.winfo_children(): child.grid_configure(padx=5, pady=5)\n",
    "\n",
    "feet_entry.focus()\n",
    "root.bind('<Return>', calculate)\n",
    "\n",
    "root.mainloop()\n"
   ]
  },
  {
   "cell_type": "code",
   "execution_count": 65,
   "metadata": {
    "collapsed": false
   },
   "outputs": [],
   "source": [
    "root = Tk()\n",
    "root.title(\"Super-Pixel Labelling\")\n",
    "\n",
    "frame1 = ttk.Frame(root)\n",
    "frame1.grid(column=1, row=1)\n",
    "ttk.Label(frame1, text=\"original\").grid(column=1, row=1)\n",
    "ttk.Label(frame1, text=\"Region\").grid(column=2, row=1)\n",
    "\n",
    "frame2 = ttk.Frame(root)\n",
    "frame2.grid(column=1, row=2)\n",
    "ttk.Label(frame2, text=\"Positive\").grid(column=1, row=1)\n",
    "ttk.Label(frame2, text=\"Pos. Border\").grid(column=3, row=1)\n",
    "ttk.Label(frame2, text=\"Back\").grid(column=2, row=2)\n",
    "\n",
    "ttk.Label(frame2, text=\"Negative\").grid(column=5, row=1)\n",
    "ttk.Label(frame2, text=\"Neg. Border\").grid(column=7, row=1)\n",
    "ttk.Label(frame2, text=\"Next\").grid(column=6, row=2)\n",
    "\n",
    "\n",
    "ttk.Label(frame2, text=\"Prev Img\").grid(column=1, row=3)\n",
    "ttk.Label(frame2, text=\"Done\").grid(column=4, row=3)\n",
    "ttk.Label(frame2, text=\"Next Img\").grid(column=7, row=3)\n",
    "\n",
    "\n",
    "for child in frame1.winfo_children(): child.grid_configure(padx=5, pady=5)\n",
    "\n",
    "root.mainloop()\n"
   ]
  },
  {
   "cell_type": "code",
   "execution_count": null,
   "metadata": {
    "collapsed": true
   },
   "outputs": [],
   "source": []
  }
 ],
 "metadata": {
  "kernelspec": {
   "display_name": "Python 2",
   "language": "python",
   "name": "python2"
  },
  "language_info": {
   "codemirror_mode": {
    "name": "ipython",
    "version": 2
   },
   "file_extension": ".py",
   "mimetype": "text/x-python",
   "name": "python",
   "nbconvert_exporter": "python",
   "pygments_lexer": "ipython2",
   "version": "2.7.11"
  }
 },
 "nbformat": 4,
 "nbformat_minor": 0
}
