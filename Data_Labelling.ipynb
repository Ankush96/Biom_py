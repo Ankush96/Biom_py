{
 "cells": [
  {
   "cell_type": "code",
   "execution_count": 1,
   "metadata": {
    "collapsed": false
   },
   "outputs": [],
   "source": [
    "import sys\n",
    "import os\n",
    "import glob\n",
    "import csv\n",
    "sys.path.append('/usr/local/lib/python2.7/dist-packages')\n",
    "import cv2\n",
    "\n",
    "from scipy import ndimage as ndi\n",
    "\n",
    "from skimage import color, io, exposure, feature, filters, measure, data\n",
    "from skimage.filters import threshold_otsu, gaussian_filter, gabor_kernel\n",
    "from skimage.segmentation import slic, mark_boundaries\n",
    "from skimage.util import img_as_float, img_as_ubyte\n",
    "\n",
    "import numpy as np\n",
    "from numpy import cos, sin, conjugate, sqrt\n",
    "\n",
    "from math import atan2\n",
    "\n",
    "from matplotlib import pyplot as plt\n",
    "import matplotlib\n",
    "%matplotlib inline\n",
    "matplotlib.rcParams['font.size'] = 9\n",
    "\n",
    "import ttk\n",
    "from Tkinter import *\n",
    "from PIL import Image, ImageTk"
   ]
  },
  {
   "cell_type": "code",
   "execution_count": 2,
   "metadata": {
    "collapsed": true
   },
   "outputs": [],
   "source": [
    "# Returns the filepaths and filenames of all those files in 'directory' ending in '.fmt'\n",
    "# Currently hard-coded\n",
    "def get_path(directory, fmt):\n",
    "    a = glob.glob(directory + '/*.' + fmt)\n",
    "    b = [x.split('/')[-1].split('.')[0] for x in a]\n",
    "    return zip(a,b)"
   ]
  },
  {
   "cell_type": "code",
   "execution_count": 5,
   "metadata": {
    "collapsed": false
   },
   "outputs": [
    {
     "name": "stdout",
     "output_type": "stream",
     "text": [
      "[('/home/ankush/Sclera/src_py/1.tiff', '1'), ('/home/ankush/Sclera/src_py/3.tiff', '3'), ('/home/ankush/Sclera/src_py/2.tiff', '2'), ('/home/ankush/Sclera/src_py/4.tiff', '4'), ('/home/ankush/Sclera/src_py/5.tiff', '5')]\n"
     ]
    }
   ],
   "source": [
    "paths = get_path(os.getcwd(),'tiff')\n",
    "init_img = io.imread(paths[0][0])\n",
    "current_img_path = paths[0][0]\n",
    "gray = color.rgb2gray(init_img)\n",
    "print paths"
   ]
  },
  {
   "cell_type": "code",
   "execution_count": 6,
   "metadata": {
    "collapsed": true
   },
   "outputs": [],
   "source": [
    "# Callbacks defined here\n",
    "def callback_Positive():\n",
    "    print 'Click!'\n",
    "    label_o.configure(image = gui_gray_photo)\n",
    "    label_o.image = gui_gray_photo"
   ]
  },
  {
   "cell_type": "code",
   "execution_count": 7,
   "metadata": {
    "collapsed": true
   },
   "outputs": [],
   "source": [
    "def callback_Prev_Img():\n",
    "    if current_img_path == paths[0][0]:\n",
    "        button_prev_img.configure()\n",
    "def callback_Next_Img():\n",
    "    button_prev_img.configure()"
   ]
  },
  {
   "cell_type": "code",
   "execution_count": 8,
   "metadata": {
    "collapsed": true
   },
   "outputs": [],
   "source": [
    "def getImageTk(img, channels = 3):\n",
    "    if channels == 1:\n",
    "        img = img_as_ubyte(img)\n",
    "    i = Image.fromarray(img)\n",
    "    return ImageTk.PhotoImage(i)"
   ]
  },
  {
   "cell_type": "code",
   "execution_count": null,
   "metadata": {
    "collapsed": false
   },
   "outputs": [],
   "source": []
  },
  {
   "cell_type": "code",
   "execution_count": 9,
   "metadata": {
    "collapsed": false
   },
   "outputs": [
    {
     "name": "stdout",
     "output_type": "stream",
     "text": [
      "Welcome\n"
     ]
    }
   ],
   "source": [
    "# Main begins\n",
    "\n",
    "print \"Welcome\"\n",
    "\n",
    "# Get paths to all images\n",
    "paths = get_path(os.getcwd(),'tiff')\n",
    "\n",
    "index = 0 # index denotes the row number in the csv file which corresponds to the start of the first SP region\n",
    "filepath = paths[0][0] # filepath is the path to the corresponding image whose first SP starts from 'index' row'\n",
    "\n",
    "if not os.path.isfile(\"labeled_data.csv\"):\n",
    "    print \"Data not found. Create a new CSV file named labeled_data.csv and index_filename.csv.\""
   ]
  },
  {
   "cell_type": "code",
   "execution_count": 31,
   "metadata": {
    "collapsed": false
   },
   "outputs": [
    {
     "name": "stdout",
     "output_type": "stream",
     "text": [
      "Click!\n"
     ]
    }
   ],
   "source": [
    "last_index = 0            # The last index start point available. 0 if no previous data has been written\n",
    "last_fname = '' \n",
    "\n",
    "# Read important stuff and close\n",
    "if os.path.getsize('labeled_data.csv') > 0: # If it is not empty\n",
    "    with open(\"labeled_data.csv\",'rb') as labeled_data, open(\"index_filename.csv\",'rb') as index_fname:\n",
    "        ifreader = csv.reader(index_fname, delimiter = \",\")\n",
    "        for row in ifreader:\n",
    "            print ', '.join(row)\n",
    "            old = row\n",
    "        last_index = old[0]\n",
    "        last_fname = old[1]\n",
    "        print last_index, last_fname\n",
    "\n",
    "# Write data onto csv files\n",
    "with open(\"labeled_data.csv\",'a') as labeled_data, open(\"index_filename.csv\",'a') as index_fname:\n",
    "    ldwriter = csv.writer(labeled_data, delimiter = \",\")\n",
    "    ifwriter = csv.writer(index_fname, delimiter = \",\")\n",
    "    \n",
    "    if not os.path.getsize('index_filename.csv') > 0: # For first time creation\n",
    "        ifwriter.writerow([0,''])\n",
    "             \n",
    "        \n",
    "    root = Toplevel() # Change this to Tk() instead of Toplevel() to prevent 2 windows from opening\n",
    "    root.title(\"Super-Pixel Labelling\")\n",
    "\n",
    "    # frame1 is for displaying the 2 images\n",
    "    frame1 = ttk.Frame(root)\n",
    "    frame1.grid(column=1, row=1)\n",
    "\n",
    "    # Displaying the original picture with the regions marked\n",
    "    ttk.Label(frame1, text=\"Original\").grid(column=1, row=1)\n",
    "    gui_orig_photo = getImageTk(init_img)\n",
    "    label_o = ttk.Label(frame1, image=gui_orig_photo)\n",
    "    label_o.image = gui_orig_photo\n",
    "    label_o.grid(column = 1, row = 2)\n",
    "\n",
    "    # Shows the final bitmap with Sclera region marked in white and rest in black\n",
    "    ttk.Label(frame1, text=\"Region\").grid(column=2, row=1)\n",
    "    gui_gray_photo = getImageTk(gray,1)\n",
    "    label_g = ttk.Label(frame1, image=gui_gray_photo)\n",
    "    label_g.image = gui_gray_photo\n",
    "    label_g.grid(column = 2, row = 2)\n",
    "\n",
    "    # frame2 is for the labelling buttons and for scrolling between images\n",
    "    frame2 = ttk.Frame(root)\n",
    "    frame2.grid(column=1, row=2)\n",
    "\n",
    "    ttk.Button(frame2, text=\"Positive\", command = callback_Positive).grid(column=1, row=1)\n",
    "    ttk.Button(frame2, text=\"Pos. Border\", command = callback_Positive).grid(column=3, row=1)\n",
    "    ttk.Button(frame2, text=\"Prev SuperPixel\", command = callback_Positive).grid(column=2, row=2)\n",
    "    ttk.Button(frame2, text=\"Save Image Data\", command = callback_Positive).grid(column=4, row=2)\n",
    "\n",
    "    ttk.Button(frame2, text=\"Negative\", command = callback_Positive).grid(column=5, row=1)\n",
    "    ttk.Button(frame2, text=\"Neg. Border\", command = callback_Positive).grid(column=7, row=1)\n",
    "    ttk.Button(frame2, text=\"Next SuperPixel\", command = callback_Positive).grid(column=6, row=2)\n",
    "\n",
    "\n",
    "    button_prev_img = ttk.Button(frame2, text=\"Prev Img\", command = callback_Prev_Img)\n",
    "    button_prev_img.grid(column=1, row=3)\n",
    "    ttk.Button(frame2, text=\"Done\", command = callback_Positive).grid(column=4, row=3)\n",
    "    ttk.Button(frame2, text=\"Next Img\", command = callback_Next_Img).grid(column=7, row=3)\n",
    "\n",
    "\n",
    "    for child in frame1.winfo_children(): child.grid_configure(padx=5, pady=5)\n",
    "\n",
    "    root.mainloop()\n"
   ]
  },
  {
   "cell_type": "code",
   "execution_count": null,
   "metadata": {
    "collapsed": false
   },
   "outputs": [],
   "source": [
    "paths[0][0]"
   ]
  },
  {
   "cell_type": "code",
   "execution_count": null,
   "metadata": {
    "collapsed": true
   },
   "outputs": [],
   "source": [
    "a = np.asarray([ [1.3,2,3], [4,5,6], [7,8,9] ], dtype='float64')"
   ]
  },
  {
   "cell_type": "code",
   "execution_count": null,
   "metadata": {
    "collapsed": false
   },
   "outputs": [],
   "source": [
    "np.savetxt(\"foo.csv\", a, delimiter=\",\")"
   ]
  },
  {
   "cell_type": "code",
   "execution_count": null,
   "metadata": {
    "collapsed": false
   },
   "outputs": [],
   "source": [
    "np.genfromtxt(\"foo.csv\", delimiter=\",\")"
   ]
  },
  {
   "cell_type": "code",
   "execution_count": null,
   "metadata": {
    "collapsed": false
   },
   "outputs": [],
   "source": [
    "a = get_path(os.getcwd(),'tiff')\n",
    "a"
   ]
  },
  {
   "cell_type": "code",
   "execution_count": null,
   "metadata": {
    "collapsed": false
   },
   "outputs": [],
   "source": [
    "paths"
   ]
  },
  {
   "cell_type": "code",
   "execution_count": null,
   "metadata": {
    "collapsed": false
   },
   "outputs": [],
   "source": [
    "os.path.isfile(\"6.tiff\")"
   ]
  },
  {
   "cell_type": "code",
   "execution_count": 22,
   "metadata": {
    "collapsed": false
   },
   "outputs": [],
   "source": [
    "with open('eggs.csv', 'wb') as csvfile:\n",
    "    spamwriter = csv.writer(csvfile, delimiter=',')\n",
    "    spamwriter.writerow(['Spam'] * 5 + ['Baked Beans'])\n",
    "    spamwriter.writerow(['Spam', 'Lovely Spam', 'Wonderful Spam'])\n",
    "    spamwriter.writerow(['Spam', 'ok Spam', 'ugly Spam'])"
   ]
  },
  {
   "cell_type": "code",
   "execution_count": 34,
   "metadata": {
    "collapsed": false
   },
   "outputs": [
    {
     "data": {
      "text/plain": [
       "4"
      ]
     },
     "execution_count": 34,
     "metadata": {},
     "output_type": "execute_result"
    }
   ],
   "source": [
    "os.path.getsize('index_filename.csv')"
   ]
  },
  {
   "cell_type": "code",
   "execution_count": 27,
   "metadata": {
    "collapsed": false
   },
   "outputs": [
    {
     "name": "stdout",
     "output_type": "stream",
     "text": [
      "Spam,Spam,Spam,Spam,Spam,Baked, Beans\n",
      "Spam,Lovely, Spam,Wonderful, Spam\n",
      "Spam,ok, Spam,ugly, Spam\n"
     ]
    }
   ],
   "source": [
    "with open('eggs.csv', 'rb') as csvfile:\n",
    "    spamreader = csv.reader(csvfile, delimiter=' ', quotechar='|')\n",
    "    for row in spamreader:\n",
    "        print ', '.join(row)\n",
    "        old = row"
   ]
  },
  {
   "cell_type": "code",
   "execution_count": 30,
   "metadata": {
    "collapsed": false
   },
   "outputs": [
    {
     "data": {
      "text/plain": [
       "['Spam,ok', 'Spam,ugly', 'Spam', 0, 'l']"
      ]
     },
     "execution_count": 30,
     "metadata": {},
     "output_type": "execute_result"
    }
   ],
   "source": [
    "old+[0,'l']"
   ]
  },
  {
   "cell_type": "code",
   "execution_count": null,
   "metadata": {
    "collapsed": true
   },
   "outputs": [],
   "source": []
  }
 ],
 "metadata": {
  "kernelspec": {
   "display_name": "Python 2",
   "language": "python",
   "name": "python2"
  },
  "language_info": {
   "codemirror_mode": {
    "name": "ipython",
    "version": 2
   },
   "file_extension": ".py",
   "mimetype": "text/x-python",
   "name": "python",
   "nbconvert_exporter": "python",
   "pygments_lexer": "ipython2",
   "version": "2.7.11"
  }
 },
 "nbformat": 4,
 "nbformat_minor": 0
}
